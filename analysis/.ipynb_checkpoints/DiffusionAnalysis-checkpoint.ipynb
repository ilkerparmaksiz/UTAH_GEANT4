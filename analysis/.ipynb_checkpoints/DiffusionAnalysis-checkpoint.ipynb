{
 "cells": [
  {
   "cell_type": "code",
   "execution_count": 1,
   "id": "hindu-edward",
   "metadata": {},
   "outputs": [],
   "source": [
    "import uproot3 as uproot\n",
    "import numpy as np\n",
    "import matplotlib.pyplot as plt\n",
    "%matplotlib inline"
   ]
  },
  {
   "cell_type": "code",
   "execution_count": null,
   "id": "subjective-warehouse",
   "metadata": {},
   "outputs": [],
   "source": []
  },
  {
   "cell_type": "code",
   "execution_count": 2,
   "id": "recorded-addition",
   "metadata": {},
   "outputs": [],
   "source": [
    "def getValues(file):\n",
    "    Values={}\n",
    "    with uproot.open(file) as f:\n",
    "        tree = f['event_tree']#metadata = f['metadata']\n",
    "        branches = [\n",
    "    \n",
    "            # event number\n",
    "            'event',\n",
    "            \n",
    "            # generator info\n",
    "            'generator_initial_number_particles', 'generator_initial_particle_pdg_code',\n",
    "            'generator_initial_particle_px', 'generator_initial_particle_py', 'generator_initial_particle_pz',\n",
    "            'generator_initial_particle_energy',\n",
    "            'generator_final_number_particles', 'generator_final_particle_pdg_code',\n",
    "            'generator_final_particle_px', 'generator_final_particle_py', 'generator_final_particle_pz',\n",
    "            'generator_final_particle_energy',\n",
    "    \n",
    "            # MC particle information [Q_PIX_GEANT4]\n",
    "            'number_particles', 'particle_track_id', 'particle_pdg_code',\n",
    "            'particle_mass', 'particle_initial_energy','particle_initial_x','particle_initial_y','particle_initial_z',\n",
    "    \n",
    "            # MC hit information [Q_PIX_GEANT4]\n",
    "            'number_hits','hit_energy_deposit', 'hit_track_id', 'hit_process_key',\n",
    "            'hit_start_x', 'hit_start_y', 'hit_start_z', 'hit_start_t','hit_process_key',\n",
    "            'hit_end_x', 'hit_end_y', 'hit_end_z', 'hit_end_t','Elocx','Elocy','Elocz'\n",
    "        ]\n",
    "      \n",
    "        for brn in branches:\n",
    "            Values[brn]=tree[brn].array()\n",
    "        \n",
    "    return Values    \n",
    "\n",
    "def ConvertTo1dArray(vects,limit=5000):\n",
    "    d1Array=[]\n",
    "    count=0\n",
    "    for x in vects:\n",
    "        k=np.array(x).flatten()\n",
    "        d1Array=np.append(d1Array,k)\n",
    "        count+=1\n",
    "        if(count==limit):\n",
    "            break\n",
    "    print(d1Array)\n",
    "    return d1Array\n",
    "\n",
    "\n",
    "def RotateAndOffset(x,offset):\n",
    "    x=-1*x\n",
    "    x=offset+x\n",
    "    return x\n",
    "\n",
    "def PlotArray(PosX,PosY,Title,AxisTitX,AxisTitY,fsize=(20,12),res=300):\n",
    "    plt.figure(figsize=fsize, dpi=res)\n",
    "    for X,Y in zip(PosX,PosY):\n",
    "        plt.scatter(X,Y,color='red')\n",
    "        plt.plot(X,Y,color='blue')\n",
    "    \n",
    "    plt.title(Title)\n",
    "    plt.xlabel(AxisTitX)\n",
    "    plt.ylabel(AxisTitY)\n",
    "    "
   ]
  },
  {
   "cell_type": "code",
   "execution_count": 3,
   "id": "surrounded-tribe",
   "metadata": {},
   "outputs": [
    {
     "ename": "FileNotFoundError",
     "evalue": "[Errno 2] No such file or directory: 'electron_10cm_50Vcm_1bar_.root'",
     "output_type": "error",
     "traceback": [
      "\u001b[0;31m---------------------------------------------------------------------------\u001b[0m",
      "\u001b[0;31mFileNotFoundError\u001b[0m                         Traceback (most recent call last)",
      "\u001b[0;32m<ipython-input-3-3433a9343726>\u001b[0m in \u001b[0;36m<module>\u001b[0;34m\u001b[0m\n\u001b[1;32m      3\u001b[0m \u001b[0mz4\u001b[0m\u001b[0;34m=\u001b[0m\u001b[0mgetValues\u001b[0m\u001b[0;34m(\u001b[0m\u001b[0;34m\"electron_4cm.root\"\u001b[0m\u001b[0;34m)\u001b[0m\u001b[0;34m\u001b[0m\u001b[0;34m\u001b[0m\u001b[0m\n\u001b[1;32m      4\u001b[0m '''\n\u001b[0;32m----> 5\u001b[0;31m \u001b[0mz10\u001b[0m\u001b[0;34m=\u001b[0m\u001b[0mgetValues\u001b[0m\u001b[0;34m(\u001b[0m\u001b[0;34m\"electron_10cm_50Vcm_1bar_.root\"\u001b[0m\u001b[0;34m)\u001b[0m\u001b[0;34m\u001b[0m\u001b[0;34m\u001b[0m\u001b[0m\n\u001b[0m\u001b[1;32m      6\u001b[0m \u001b[0mz2\u001b[0m\u001b[0;34m=\u001b[0m\u001b[0mgetValues\u001b[0m\u001b[0;34m(\u001b[0m\u001b[0;34m\"electron_2cm_50Vcm_1bar_.root\"\u001b[0m\u001b[0;34m)\u001b[0m\u001b[0;34m\u001b[0m\u001b[0;34m\u001b[0m\u001b[0m\n",
      "\u001b[0;32m<ipython-input-2-358e05aab927>\u001b[0m in \u001b[0;36mgetValues\u001b[0;34m(file)\u001b[0m\n\u001b[1;32m      1\u001b[0m \u001b[0;32mdef\u001b[0m \u001b[0mgetValues\u001b[0m\u001b[0;34m(\u001b[0m\u001b[0mfile\u001b[0m\u001b[0;34m)\u001b[0m\u001b[0;34m:\u001b[0m\u001b[0;34m\u001b[0m\u001b[0;34m\u001b[0m\u001b[0m\n\u001b[1;32m      2\u001b[0m     \u001b[0mValues\u001b[0m\u001b[0;34m=\u001b[0m\u001b[0;34m{\u001b[0m\u001b[0;34m}\u001b[0m\u001b[0;34m\u001b[0m\u001b[0;34m\u001b[0m\u001b[0m\n\u001b[0;32m----> 3\u001b[0;31m     \u001b[0;32mwith\u001b[0m \u001b[0muproot\u001b[0m\u001b[0;34m.\u001b[0m\u001b[0mopen\u001b[0m\u001b[0;34m(\u001b[0m\u001b[0mfile\u001b[0m\u001b[0;34m)\u001b[0m \u001b[0;32mas\u001b[0m \u001b[0mf\u001b[0m\u001b[0;34m:\u001b[0m\u001b[0;34m\u001b[0m\u001b[0;34m\u001b[0m\u001b[0m\n\u001b[0m\u001b[1;32m      4\u001b[0m         \u001b[0mtree\u001b[0m \u001b[0;34m=\u001b[0m \u001b[0mf\u001b[0m\u001b[0;34m[\u001b[0m\u001b[0;34m'event_tree'\u001b[0m\u001b[0;34m]\u001b[0m\u001b[0;31m#metadata = f['metadata']\u001b[0m\u001b[0;34m\u001b[0m\u001b[0;34m\u001b[0m\u001b[0m\n\u001b[1;32m      5\u001b[0m         branches = [\n",
      "\u001b[0;32m~/.local/lib/python3.9/site-packages/uproot3/rootio.py\u001b[0m in \u001b[0;36mopen\u001b[0;34m(path, localsource, xrootdsource, httpsource, **options)\u001b[0m\n\u001b[1;32m     53\u001b[0m         \u001b[0;32melse\u001b[0m\u001b[0;34m:\u001b[0m\u001b[0;34m\u001b[0m\u001b[0;34m\u001b[0m\u001b[0m\n\u001b[1;32m     54\u001b[0m             \u001b[0mopenfcn\u001b[0m \u001b[0;34m=\u001b[0m \u001b[0mlocalsource\u001b[0m\u001b[0;34m\u001b[0m\u001b[0;34m\u001b[0m\u001b[0m\n\u001b[0;32m---> 55\u001b[0;31m         \u001b[0;32mreturn\u001b[0m \u001b[0mROOTDirectory\u001b[0m\u001b[0;34m.\u001b[0m\u001b[0mread\u001b[0m\u001b[0;34m(\u001b[0m\u001b[0mopenfcn\u001b[0m\u001b[0;34m(\u001b[0m\u001b[0mpath\u001b[0m\u001b[0;34m)\u001b[0m\u001b[0;34m,\u001b[0m \u001b[0;34m**\u001b[0m\u001b[0moptions\u001b[0m\u001b[0;34m)\u001b[0m\u001b[0;34m\u001b[0m\u001b[0;34m\u001b[0m\u001b[0m\n\u001b[0m\u001b[1;32m     56\u001b[0m \u001b[0;34m\u001b[0m\u001b[0m\n\u001b[1;32m     57\u001b[0m     \u001b[0;32melif\u001b[0m \u001b[0m_bytesid\u001b[0m\u001b[0;34m(\u001b[0m\u001b[0mparsed\u001b[0m\u001b[0;34m.\u001b[0m\u001b[0mscheme\u001b[0m\u001b[0;34m)\u001b[0m \u001b[0;34m==\u001b[0m \u001b[0;34mb\"root\"\u001b[0m\u001b[0;34m:\u001b[0m\u001b[0;34m\u001b[0m\u001b[0;34m\u001b[0m\u001b[0m\n",
      "\u001b[0;32m~/.local/lib/python3.9/site-packages/uproot3/rootio.py\u001b[0m in \u001b[0;36m<lambda>\u001b[0;34m(path)\u001b[0m\n\u001b[1;32m     50\u001b[0m                 \u001b[0;32mif\u001b[0m \u001b[0mn\u001b[0m \u001b[0;32min\u001b[0m \u001b[0moptions\u001b[0m\u001b[0;34m:\u001b[0m\u001b[0;34m\u001b[0m\u001b[0;34m\u001b[0m\u001b[0m\n\u001b[1;32m     51\u001b[0m                     \u001b[0mkwargs\u001b[0m\u001b[0;34m[\u001b[0m\u001b[0mn\u001b[0m\u001b[0;34m]\u001b[0m \u001b[0;34m=\u001b[0m \u001b[0moptions\u001b[0m\u001b[0;34m.\u001b[0m\u001b[0mpop\u001b[0m\u001b[0;34m(\u001b[0m\u001b[0mn\u001b[0m\u001b[0;34m)\u001b[0m\u001b[0;34m\u001b[0m\u001b[0;34m\u001b[0m\u001b[0m\n\u001b[0;32m---> 52\u001b[0;31m             \u001b[0mopenfcn\u001b[0m \u001b[0;34m=\u001b[0m \u001b[0;32mlambda\u001b[0m \u001b[0mpath\u001b[0m\u001b[0;34m:\u001b[0m \u001b[0mMemmapSource\u001b[0m\u001b[0;34m(\u001b[0m\u001b[0mpath\u001b[0m\u001b[0;34m,\u001b[0m \u001b[0;34m**\u001b[0m\u001b[0mkwargs\u001b[0m\u001b[0;34m)\u001b[0m\u001b[0;34m\u001b[0m\u001b[0;34m\u001b[0m\u001b[0m\n\u001b[0m\u001b[1;32m     53\u001b[0m         \u001b[0;32melse\u001b[0m\u001b[0;34m:\u001b[0m\u001b[0;34m\u001b[0m\u001b[0;34m\u001b[0m\u001b[0m\n\u001b[1;32m     54\u001b[0m             \u001b[0mopenfcn\u001b[0m \u001b[0;34m=\u001b[0m \u001b[0mlocalsource\u001b[0m\u001b[0;34m\u001b[0m\u001b[0;34m\u001b[0m\u001b[0m\n",
      "\u001b[0;32m~/.local/lib/python3.9/site-packages/uproot3/source/memmap.py\u001b[0m in \u001b[0;36m__init__\u001b[0;34m(self, path)\u001b[0m\n\u001b[1;32m     19\u001b[0m     \u001b[0;32mdef\u001b[0m \u001b[0m__init__\u001b[0m\u001b[0;34m(\u001b[0m\u001b[0mself\u001b[0m\u001b[0;34m,\u001b[0m \u001b[0mpath\u001b[0m\u001b[0;34m)\u001b[0m\u001b[0;34m:\u001b[0m\u001b[0;34m\u001b[0m\u001b[0;34m\u001b[0m\u001b[0m\n\u001b[1;32m     20\u001b[0m         \u001b[0mself\u001b[0m\u001b[0;34m.\u001b[0m\u001b[0mpath\u001b[0m \u001b[0;34m=\u001b[0m \u001b[0mos\u001b[0m\u001b[0;34m.\u001b[0m\u001b[0mpath\u001b[0m\u001b[0;34m.\u001b[0m\u001b[0mexpanduser\u001b[0m\u001b[0;34m(\u001b[0m\u001b[0mpath\u001b[0m\u001b[0;34m)\u001b[0m\u001b[0;34m\u001b[0m\u001b[0;34m\u001b[0m\u001b[0m\n\u001b[0;32m---> 21\u001b[0;31m         \u001b[0mself\u001b[0m\u001b[0;34m.\u001b[0m\u001b[0m_source\u001b[0m \u001b[0;34m=\u001b[0m \u001b[0mnumpy\u001b[0m\u001b[0;34m.\u001b[0m\u001b[0mmemmap\u001b[0m\u001b[0;34m(\u001b[0m\u001b[0mself\u001b[0m\u001b[0;34m.\u001b[0m\u001b[0mpath\u001b[0m\u001b[0;34m,\u001b[0m \u001b[0mdtype\u001b[0m\u001b[0;34m=\u001b[0m\u001b[0mnumpy\u001b[0m\u001b[0;34m.\u001b[0m\u001b[0muint8\u001b[0m\u001b[0;34m,\u001b[0m \u001b[0mmode\u001b[0m\u001b[0;34m=\u001b[0m\u001b[0;34m\"r\"\u001b[0m\u001b[0;34m)\u001b[0m\u001b[0;34m\u001b[0m\u001b[0;34m\u001b[0m\u001b[0m\n\u001b[0m\u001b[1;32m     22\u001b[0m         \u001b[0mself\u001b[0m\u001b[0;34m.\u001b[0m\u001b[0mclosed\u001b[0m \u001b[0;34m=\u001b[0m \u001b[0;32mFalse\u001b[0m\u001b[0;34m\u001b[0m\u001b[0;34m\u001b[0m\u001b[0m\n\u001b[1;32m     23\u001b[0m \u001b[0;34m\u001b[0m\u001b[0m\n",
      "\u001b[0;32m~/.local/lib/python3.9/site-packages/numpy/core/memmap.py\u001b[0m in \u001b[0;36m__new__\u001b[0;34m(subtype, filename, dtype, mode, offset, shape, order)\u001b[0m\n\u001b[1;32m    226\u001b[0m             \u001b[0mf_ctx\u001b[0m \u001b[0;34m=\u001b[0m \u001b[0mnullcontext\u001b[0m\u001b[0;34m(\u001b[0m\u001b[0mfilename\u001b[0m\u001b[0;34m)\u001b[0m\u001b[0;34m\u001b[0m\u001b[0;34m\u001b[0m\u001b[0m\n\u001b[1;32m    227\u001b[0m         \u001b[0;32melse\u001b[0m\u001b[0;34m:\u001b[0m\u001b[0;34m\u001b[0m\u001b[0;34m\u001b[0m\u001b[0m\n\u001b[0;32m--> 228\u001b[0;31m             \u001b[0mf_ctx\u001b[0m \u001b[0;34m=\u001b[0m \u001b[0mopen\u001b[0m\u001b[0;34m(\u001b[0m\u001b[0mos_fspath\u001b[0m\u001b[0;34m(\u001b[0m\u001b[0mfilename\u001b[0m\u001b[0;34m)\u001b[0m\u001b[0;34m,\u001b[0m \u001b[0;34m(\u001b[0m\u001b[0;34m'r'\u001b[0m \u001b[0;32mif\u001b[0m \u001b[0mmode\u001b[0m \u001b[0;34m==\u001b[0m \u001b[0;34m'c'\u001b[0m \u001b[0;32melse\u001b[0m \u001b[0mmode\u001b[0m\u001b[0;34m)\u001b[0m\u001b[0;34m+\u001b[0m\u001b[0;34m'b'\u001b[0m\u001b[0;34m)\u001b[0m\u001b[0;34m\u001b[0m\u001b[0;34m\u001b[0m\u001b[0m\n\u001b[0m\u001b[1;32m    229\u001b[0m \u001b[0;34m\u001b[0m\u001b[0m\n\u001b[1;32m    230\u001b[0m         \u001b[0;32mwith\u001b[0m \u001b[0mf_ctx\u001b[0m \u001b[0;32mas\u001b[0m \u001b[0mfid\u001b[0m\u001b[0;34m:\u001b[0m\u001b[0;34m\u001b[0m\u001b[0;34m\u001b[0m\u001b[0m\n",
      "\u001b[0;31mFileNotFoundError\u001b[0m: [Errno 2] No such file or directory: 'electron_10cm_50Vcm_1bar_.root'"
     ]
    }
   ],
   "source": [
    "'''z8=getValues(\"electron_8cm.root\")\n",
    "z6=getValues(\"electron_6cm.root\")\n",
    "z4=getValues(\"electron_4cm.root\")\n",
    "'''\n",
    "z10=getValues(\"electron_10cm_50Vcm_1bar_.root\")\n",
    "z2=getValues(\"electron_2cm_50Vcm_1bar_.root\")\n"
   ]
  },
  {
   "cell_type": "code",
   "execution_count": null,
   "id": "organized-lending",
   "metadata": {},
   "outputs": [],
   "source": [
    "Ey_z10=ConvertTo1dArray(z10[\"Elocy\"],90)\n",
    "#Ey_z8=ConvertTo1dArray(z8[\"Elocy\"])\n",
    "#Ey_z6=ConvertTo1dArray(z6[\"Elocy\"])\n",
    "#Ey_z4=ConvertTo1dArray(z4[\"Elocy\"])\n",
    "Ey_z2=ConvertTo1dArray(z2[\"Elocy\"],90)\n",
    "\n",
    "\n",
    "\n"
   ]
  },
  {
   "cell_type": "code",
   "execution_count": null,
   "id": "critical-sport",
   "metadata": {},
   "outputs": [],
   "source": [
    "plt.figure(figsize=(20,12), dpi=300)\n",
    "plt.title(\"Diffused Electron Position in Y\")\n",
    "z10n, z10bins, z10patches = plt.hist(Ey_z10, 24, density=False, facecolor='b', alpha=0.75,label=\"10cm\")\n",
    "#plt.hist(Ey_z8, 25, density=True, facecolor='r', alpha=0.75,label='10cm')\n",
    "#plt.hist(Ey_z6, 25, density=True, facecolor='b', alpha=0.75,label='10cm')\n",
    "#plt.hist(Ey_z4, 25, density=True, facecolor='m', alpha=0.75,label='10cm')\n",
    "z2n, z2bins, z2patches = plt.hist(Ey_z2, 15, density=False, facecolor='y', alpha=0.75,label=\"2cm\")\n",
    "\n",
    "plt.xticks(z10bins,rotation=90)\n",
    "plt.xlabel\n",
    "plt.grid(True,axis='x')\n",
    "plt.show()\n",
    "print(f\" Spacing is {abs(z2bins[0]-z2bins[1])*10}   in mm  @ 2 cm \")\n",
    "print(f\" Spacing is {abs(z10bins[0]-z10bins[1])*10} in mm @ 10 cm \")"
   ]
  },
  {
   "cell_type": "code",
   "execution_count": null,
   "id": "adopted-ballet",
   "metadata": {},
   "outputs": [],
   "source": [
    "alphas=getValues(\"alpha.root\")\n",
    "electrons=getValues(\"electron.root\")\n",
    "\n"
   ]
  },
  {
   "cell_type": "code",
   "execution_count": null,
   "id": "usual-shipping",
   "metadata": {},
   "outputs": [],
   "source": [
    "ElectronPositionX=RotateAndOffset(electrons[\"particle_initial_x\"],7)\n",
    "ElectronPositionY=RotateAndOffset(electrons[\"particle_initial_y\"],4)\n",
    "\n",
    "AlphasPositionX=RotateAndOffset(alphas[\"particle_initial_x\"],7)\n",
    "AlphasPositionY=RotateAndOffset(alphas[\"particle_initial_y\"],4)\n"
   ]
  },
  {
   "cell_type": "code",
   "execution_count": null,
   "id": "adult-sight",
   "metadata": {},
   "outputs": [],
   "source": [
    "PlotArray(ElectronPositionX,ElectronPositionY,\"Electrons 0.54 MeV\",\"PositionX\",\"PositionY\")"
   ]
  },
  {
   "cell_type": "code",
   "execution_count": null,
   "id": "driving-certification",
   "metadata": {},
   "outputs": [],
   "source": [
    "PlotArray(AlphasPositionX,AlphasPositionY,\"Alhas at 5.4 MeV\",\"PositionX\",\"PositionY\")"
   ]
  }
 ],
 "metadata": {
  "kernelspec": {
   "display_name": "Python 3",
   "language": "python",
   "name": "python3"
  },
  "language_info": {
   "codemirror_mode": {
    "name": "ipython",
    "version": 3
   },
   "file_extension": ".py",
   "mimetype": "text/x-python",
   "name": "python",
   "nbconvert_exporter": "python",
   "pygments_lexer": "ipython3",
   "version": "3.9.7"
  }
 },
 "nbformat": 4,
 "nbformat_minor": 5
}
