{
 "cells": [
  {
   "cell_type": "code",
   "execution_count": 1,
   "id": "hindu-edward",
   "metadata": {},
   "outputs": [],
   "source": [
    "import uproot3 as uproot\n",
    "import numpy as np\n",
    "import matplotlib.pyplot as plt\n",
    "%matplotlib inline"
   ]
  },
  {
   "cell_type": "code",
   "execution_count": null,
   "id": "subjective-warehouse",
   "metadata": {},
   "outputs": [],
   "source": []
  },
  {
   "cell_type": "code",
   "execution_count": 2,
   "id": "recorded-addition",
   "metadata": {},
   "outputs": [],
   "source": [
    "def getValues(file):\n",
    "    Values={}\n",
    "    with uproot.open(file) as f:\n",
    "        tree = f['event_tree']#metadata = f['metadata']\n",
    "        branches = [\n",
    "    \n",
    "            # event number\n",
    "            'event',\n",
    "            \n",
    "            # generator info\n",
    "            'generator_initial_number_particles', 'generator_initial_particle_pdg_code',\n",
    "            'generator_initial_particle_px', 'generator_initial_particle_py', 'generator_initial_particle_pz',\n",
    "            'generator_initial_particle_energy',\n",
    "            'generator_final_number_particles', 'generator_final_particle_pdg_code',\n",
    "            'generator_final_particle_px', 'generator_final_particle_py', 'generator_final_particle_pz',\n",
    "            'generator_final_particle_energy',\n",
    "    \n",
    "            # MC particle information [Q_PIX_GEANT4]\n",
    "            'number_particles', 'particle_track_id', 'particle_pdg_code',\n",
    "            'particle_mass', 'particle_initial_energy','particle_initial_x','particle_initial_y','particle_initial_z',\n",
    "    \n",
    "            # MC hit information [Q_PIX_GEANT4]\n",
    "            'number_hits','hit_energy_deposit', 'hit_track_id', 'hit_process_key',\n",
    "            'hit_start_x', 'hit_start_y', 'hit_start_z', 'hit_start_t','hit_process_key',\n",
    "            'hit_end_x', 'hit_end_y', 'hit_end_z', 'hit_end_t','Elocx','Elocy','Elocz'\n",
    "        ]\n",
    "      \n",
    "        for brn in branches:\n",
    "            Values[brn]=tree[brn].array()\n",
    "        \n",
    "    return Values    \n",
    "\n",
    "def ConvertTo1dArray(vects,limit=5000):\n",
    "    d1Array=[]\n",
    "    count=0\n",
    "    for x in vects:\n",
    "        k=np.array(x).flatten()\n",
    "        d1Array=np.append(d1Array,k)\n",
    "        count+=1\n",
    "        if(count==limit):\n",
    "            break\n",
    "    print(d1Array)\n",
    "    return d1Array\n",
    "\n",
    "\n",
    "def RotateAndOffset(x,offset):\n",
    "    x=-1*x\n",
    "    x=offset+x\n",
    "    return x\n",
    "\n",
    "def PlotArray(PosX,PosY,Title,AxisTitX,AxisTitY,fsize=(20,12),res=300):\n",
    "    plt.figure(figsize=fsize, dpi=res)\n",
    "    for X,Y in zip(PosX,PosY):\n",
    "        plt.scatter(X,Y,color='red')\n",
    "        plt.plot(X,Y,color='blue')\n",
    "    \n",
    "    plt.title(Title)\n",
    "    plt.xlabel(AxisTitX)\n",
    "    plt.ylabel(AxisTitY)\n",
    "    "
   ]
  },
  {
   "cell_type": "code",
   "execution_count": 3,
   "id": "surrounded-tribe",
   "metadata": {},
   "outputs": [
    {
     "name": "stderr",
     "output_type": "stream",
     "text": [
      "/home/ilker/.local/lib/python3.9/site-packages/awkward0/array/base.py:398: VisibleDeprecationWarning: Creating an ndarray from ragged nested sequences (which is a list-or-tuple of lists-or-tuples-or ndarrays with different lengths or shapes) is deprecated. If you meant to do this, you must specify 'dtype=object' when creating the ndarray.\n",
      "  return cls.numpy.array(value, copy=False)\n"
     ]
    }
   ],
   "source": [
    "'''z8=getValues(\"electron_8cm.root\")\n",
    "z6=getValues(\"electron_6cm.root\")\n",
    "z4=getValues(\"electron_4cm.root\")\n",
    "'''\n",
    "z10=getValues(\"/media/ilker/writable/Diffusion_Measurement/Alpha_1bar_2cm_25Vcm_Pixels_test.root\")\n",
    "#z2=getValues(\"electron_2cm_50Vcm_1bar_.root\")\n"
   ]
  },
  {
   "cell_type": "code",
   "execution_count": 11,
   "id": "elect-parking",
   "metadata": {},
   "outputs": [
    {
     "name": "stdout",
     "output_type": "stream",
     "text": [
      "[4.03804936 4.03803109 4.0380259  ... 4.05394709 4.05515898 4.0559617 ]\n",
      "[3.73277900e+03 5.12397218e-01 5.12390865e-01 ... 5.12024045e-01\n",
      " 5.12001402e-01 5.12009485e-01]\n",
      "3913.454207517035\n"
     ]
    }
   ],
   "source": [
    "\n",
    "HitYPos=ConvertTo1dArray(z10[\"hit_start_y\"],90)\n",
    "TotalEnergyDeposit=ConvertTo1dArray(z10[\"particle_f_energy\"],20)\n",
    "TotalEnergyDeposit.sum()\n",
    "print(TotalEnergyDeposit.sum()/20)\n",
    "#plt.scatter(HitXPos,HitYPos,color='r')\n",
    "#plt.plot(HitXPos,HitYPos)\n"
   ]
  },
  {
   "cell_type": "code",
   "execution_count": 5,
   "id": "organized-lending",
   "metadata": {},
   "outputs": [
    {
     "name": "stdout",
     "output_type": "stream",
     "text": [
      "[4.44191176 3.07709484 4.55779991 ... 3.88361724 3.95259507 2.88786889]\n"
     ]
    },
    {
     "ename": "NameError",
     "evalue": "name 'z2' is not defined",
     "output_type": "error",
     "traceback": [
      "\u001b[0;31m---------------------------------------------------------------------------\u001b[0m",
      "\u001b[0;31mNameError\u001b[0m                                 Traceback (most recent call last)",
      "\u001b[0;32m<ipython-input-5-4b349502374f>\u001b[0m in \u001b[0;36m<module>\u001b[0;34m\u001b[0m\n\u001b[1;32m      3\u001b[0m \u001b[0;31m#Ey_z6=ConvertTo1dArray(z6[\"Elocy\"])\u001b[0m\u001b[0;34m\u001b[0m\u001b[0;34m\u001b[0m\u001b[0m\n\u001b[1;32m      4\u001b[0m \u001b[0;31m#Ey_z4=ConvertTo1dArray(z4[\"Elocy\"])\u001b[0m\u001b[0;34m\u001b[0m\u001b[0;34m\u001b[0m\u001b[0m\n\u001b[0;32m----> 5\u001b[0;31m \u001b[0mEy_z2\u001b[0m\u001b[0;34m=\u001b[0m\u001b[0mConvertTo1dArray\u001b[0m\u001b[0;34m(\u001b[0m\u001b[0mz2\u001b[0m\u001b[0;34m[\u001b[0m\u001b[0;34m\"Elocy\"\u001b[0m\u001b[0;34m]\u001b[0m\u001b[0;34m,\u001b[0m\u001b[0;36m90\u001b[0m\u001b[0;34m)\u001b[0m\u001b[0;34m\u001b[0m\u001b[0;34m\u001b[0m\u001b[0m\n\u001b[0m\u001b[1;32m      6\u001b[0m \u001b[0;34m\u001b[0m\u001b[0m\n\u001b[1;32m      7\u001b[0m \u001b[0;34m\u001b[0m\u001b[0m\n",
      "\u001b[0;31mNameError\u001b[0m: name 'z2' is not defined"
     ]
    }
   ],
   "source": [
    "Ey_z10=ConvertTo1dArray(z10[\"Elocy\"],90)\n",
    "#Ey_z8=ConvertTo1dArray(z8[\"Elocy\"])\n",
    "#Ey_z6=ConvertTo1dArray(z6[\"Elocy\"])\n",
    "#Ey_z4=ConvertTo1dArray(z4[\"Elocy\"])\n",
    "Ey_z2=ConvertTo1dArray(z2[\"Elocy\"],90)\n",
    "\n",
    "\n",
    "\n"
   ]
  },
  {
   "cell_type": "code",
   "execution_count": null,
   "id": "critical-sport",
   "metadata": {},
   "outputs": [],
   "source": [
    "plt.figure(figsize=(20,12), dpi=300)\n",
    "plt.title(\"Diffused Electron Position in Y\")\n",
    "z10n, z10bins, z10patches = plt.hist(Ey_z10, 24, density=False, facecolor='b', alpha=0.75,label=\"10cm\")\n",
    "#plt.hist(Ey_z8, 25, density=True, facecolor='r', alpha=0.75,label='10cm')\n",
    "#plt.hist(Ey_z6, 25, density=True, facecolor='b', alpha=0.75,label='10cm')\n",
    "#plt.hist(Ey_z4, 25, density=True, facecolor='m', alpha=0.75,label='10cm')\n",
    "z2n, z2bins, z2patches = plt.hist(Ey_z2, 15, density=False, facecolor='y', alpha=0.75,label=\"2cm\")\n",
    "\n",
    "plt.xticks(z10bins,rotation=90)\n",
    "plt.xlabel\n",
    "plt.grid(True,axis='x')\n",
    "plt.show()\n",
    "print(f\" Spacing is {abs(z2bins[0]-z2bins[1])*10}   in mm  @ 2 cm \")\n",
    "print(f\" Spacing is {abs(z10bins[0]-z10bins[1])*10} in mm @ 10 cm \")"
   ]
  },
  {
   "cell_type": "code",
   "execution_count": null,
   "id": "adopted-ballet",
   "metadata": {},
   "outputs": [],
   "source": [
    "alphas=getValues(\"alpha.root\")\n",
    "electrons=getValues(\"electron.root\")\n",
    "\n"
   ]
  },
  {
   "cell_type": "code",
   "execution_count": null,
   "id": "usual-shipping",
   "metadata": {},
   "outputs": [],
   "source": [
    "ElectronPositionX=RotateAndOffset(electrons[\"particle_initial_x\"],7)\n",
    "ElectronPositionY=RotateAndOffset(electrons[\"particle_initial_y\"],4)\n",
    "\n",
    "AlphasPositionX=RotateAndOffset(alphas[\"particle_initial_x\"],7)\n",
    "AlphasPositionY=RotateAndOffset(alphas[\"particle_initial_y\"],4)\n"
   ]
  },
  {
   "cell_type": "code",
   "execution_count": null,
   "id": "adult-sight",
   "metadata": {},
   "outputs": [],
   "source": [
    "PlotArray(ElectronPositionX,ElectronPositionY,\"Electrons 0.54 MeV\",\"PositionX\",\"PositionY\")"
   ]
  },
  {
   "cell_type": "code",
   "execution_count": null,
   "id": "driving-certification",
   "metadata": {},
   "outputs": [],
   "source": [
    "PlotArray(AlphasPositionX,AlphasPositionY,\"Alhas at 5.4 MeV\",\"PositionX\",\"PositionY\")"
   ]
  }
 ],
 "metadata": {
  "kernelspec": {
   "display_name": "Python 3",
   "language": "python",
   "name": "python3"
  },
  "language_info": {
   "codemirror_mode": {
    "name": "ipython",
    "version": 3
   },
   "file_extension": ".py",
   "mimetype": "text/x-python",
   "name": "python",
   "nbconvert_exporter": "python",
   "pygments_lexer": "ipython3",
   "version": "3.9.7"
  }
 },
 "nbformat": 4,
 "nbformat_minor": 5
}
